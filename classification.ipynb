{
 "cells": [
  {
   "cell_type": "markdown",
   "metadata": {},
   "source": [
    "Description: This project is a machine learning-based support ticket classification system designed to categorize customer queries into predefined categories like login issues, app functionality, billing, account management, and performance issues. It leverages Sentence Transformers for embedding-based retrieval and the Llama 3.1 model for generative classification. The system features a user-friendly Gradio interface for inputting support tickets and ensures that irrelevant or out-of-scope queries are handled gracefully by providing a custom fallback message, which prevents the hallucinations. This solution is ideal for automating and enhancing customer support workflows."
   ]
  },
  {
   "cell_type": "markdown",
   "metadata": {},
   "source": [
    "Author: Riya Chougule"
   ]
  },
  {
   "cell_type": "markdown",
   "metadata": {},
   "source": [
    "Date: 08/18/2024"
   ]
  },
  {
   "cell_type": "code",
   "execution_count": 1,
   "metadata": {},
   "outputs": [
    {
     "name": "stderr",
     "output_type": "stream",
     "text": [
      "/Users/riya/Downloads/Edlight-classification-task/myenv/lib/python3.9/site-packages/tqdm/auto.py:21: TqdmWarning: IProgress not found. Please update jupyter and ipywidgets. See https://ipywidgets.readthedocs.io/en/stable/user_install.html\n",
      "  from .autonotebook import tqdm as notebook_tqdm\n",
      "/Users/riya/Downloads/Edlight-classification-task/myenv/lib/python3.9/site-packages/gradio_client/documentation.py:106: UserWarning: Could not get documentation group for <class 'gradio.mix.Parallel'>: No known documentation group for module 'gradio.mix'\n",
      "  warnings.warn(f\"Could not get documentation group for {cls}: {exc}\")\n",
      "/Users/riya/Downloads/Edlight-classification-task/myenv/lib/python3.9/site-packages/gradio_client/documentation.py:106: UserWarning: Could not get documentation group for <class 'gradio.mix.Series'>: No known documentation group for module 'gradio.mix'\n",
      "  warnings.warn(f\"Could not get documentation group for {cls}: {exc}\")\n",
      "/Users/riya/Downloads/Edlight-classification-task/myenv/lib/python3.9/site-packages/transformers/tokenization_utils_base.py:1601: FutureWarning: `clean_up_tokenization_spaces` was not set. It will be set to `True` by default. This behavior will be depracted in transformers v4.45, and will be then set to `False` by default. For more details check this issue: https://github.com/huggingface/transformers/issues/31884\n",
      "  warnings.warn(\n"
     ]
    }
   ],
   "source": [
    "import gradio as gr\n",
    "import torch\n",
    "import nltk\n",
    "from sentence_transformers import SentenceTransformer, util\n",
    "import ollama\n",
    "\n",
    "# Load Sentence Transformer for embedding the knowledge base\n",
    "embedder = SentenceTransformer('all-MiniLM-L6-v2')\n"
   ]
  },
  {
   "cell_type": "markdown",
   "metadata": {},
   "source": [
    "RAG component"
   ]
  },
  {
   "cell_type": "code",
   "execution_count": 32,
   "metadata": {},
   "outputs": [],
   "source": [
    "# Knowledge base/content store\n",
    "knowledge_base = [\n",
    "    \"Login Issues: Login issues often occur due to incorrect passwords or account lockouts.\",\n",
    "    \"App Functionality: App crashes can be caused by outdated software or device incompatibility.\",\n",
    "    \"Billing: Billing discrepancies may result from processing errors or duplicate transactions.\",\n",
    "    \"Account Management: Account management includes tasks such as changing, updating, modifying profile information, linking social media accounts, and managing privacy settings.\",\n",
    "    \"Performance Issues: Performance issues can be related to device specifications, network connectivity, or app optimization.\",\n",
    "    \"No Relevant Information: It looks like I don’t have the relevant information you’re looking for. For further assistance, please contact our support team directly at techsupport@company.com\"\n",
    "]\n",
    "\n",
    "# Embed the knowledge base\n",
    "kb_embeddings = embedder.encode(knowledge_base, convert_to_tensor=True)\n",
    "\n",
    "def classify_ticket(Ticket):\n",
    "    \"\"\"\n",
    "    Classifies a support ticket into a predefined category using a combination of retrieval and language model generation.\n",
    "\n",
    "    Parameters:\n",
    "        Ticket (str): The support ticket text to be classified.\n",
    "\n",
    "    Returns:\n",
    "        str: The classification result, either as one of the predefined categories or a custom message for irrelevant information.\n",
    "    \"\"\"\n",
    "\n",
    "    query_embedding = embedder.encode(Ticket, convert_to_tensor=True)\n",
    "    scores = util.cos_sim(query_embedding, kb_embeddings)[0]\n",
    "    top_k_idx = torch.topk(scores, k=1).indices[0].item()\n",
    "    top_k_score = scores[top_k_idx].item()\n",
    "    \n",
    "    # Define a similarity threshold\n",
    "    similarity_threshold = 0.1\n",
    "    \n",
    "    if top_k_score < similarity_threshold:\n",
    "        # Return the message for the new category 6\n",
    "        return knowledge_base[-1]\n",
    "    \n",
    "    retrieved_text = knowledge_base[top_k_idx]\n",
    "    prompt = f\"Support Ticket: {Ticket}\\nRelevant Information: {retrieved_text}\\nPlease classify this ticket into one of the following categories: Login Issues, App Functionality, Billing, Account Management, Performance Issues.\"\n",
    "    \n",
    "    response = ollama.chat(model=\"llama3.1:latest\", messages=[{\"role\": \"user\", \"content\": prompt}])\n",
    "    response_content = response['message']['content'].strip()\n",
    "    return response_content"
   ]
  },
  {
   "cell_type": "markdown",
   "metadata": {},
   "source": [
    "User Interface"
   ]
  },
  {
   "cell_type": "code",
   "execution_count": 4,
   "metadata": {},
   "outputs": [
    {
     "name": "stdout",
     "output_type": "stream",
     "text": [
      "IMPORTANT: You are using gradio version 3.36.1, however version 4.29.0 is available, please upgrade.\n",
      "--------\n",
      "Running on local URL:  http://127.0.0.1:7917\n",
      "\n",
      "To create a public link, set `share=True` in `launch()`.\n"
     ]
    },
    {
     "data": {
      "text/html": [
       "<div><iframe src=\"http://127.0.0.1:7917/\" width=\"100%\" height=\"500\" allow=\"autoplay; camera; microphone; clipboard-read; clipboard-write;\" frameborder=\"0\" allowfullscreen></iframe></div>"
      ],
      "text/plain": [
       "<IPython.core.display.HTML object>"
      ]
     },
     "metadata": {},
     "output_type": "display_data"
    },
    {
     "data": {
      "text/plain": []
     },
     "execution_count": 4,
     "metadata": {},
     "output_type": "execute_result"
    }
   ],
   "source": [
    "# Define Gradio interface with customized styling\n",
    "def gradio_interface(Ticket):\n",
    "    classification = classify_ticket(Ticket)\n",
    "    return classification\n",
    "\n",
    "iface = gr.Interface(\n",
    "    fn=gradio_interface,\n",
    "    inputs=gr.Textbox(\n",
    "        lines=4,\n",
    "        placeholder=\"Enter the support ticket here...\",\n",
    "        elem_id=\"input-textbox\",\n",
    "        elem_classes=[\"custom-textbox\"]\n",
    "    ),\n",
    "    outputs=\"text\",\n",
    "    title=\"Support Ticket Classification\",\n",
    "    description=\"Enter a support ticket to classify it into one of the predefined categories. The model will analyze the text and provide the most relevant category based on the knowledge base.\",\n",
    "    theme=\"default\",\n",
    "    css=\"\"\"\n",
    "        .gradio-container {\n",
    "            display: flex;\n",
    "            flex-direction: column;\n",
    "            align-items: center;\n",
    "            justify-content: center;\n",
    "            height: 100vh;\n",
    "            background: url('https://www.getzephyr.com/zephyr/media/files/Technical-Support.png') no-repeat center center fixed;\n",
    "            background-size: cover;\n",
    "            padding: 20px;\n",
    "        }\n",
    "        #input-textbox {\n",
    "            width: 100%;\n",
    "            max-width: 600px;\n",
    "            margin: 10px 0;\n",
    "            background-color: transparent;\n",
    "            border: 2px solid #ccc;\n",
    "            border-radius: 8px;\n",
    "            padding: 10px;\n",
    "            font-size: 14px;\n",
    "            box-shadow: 0 2px 4px rgba(0, 0, 0, 0.1);\n",
    "        }\n",
    "        .custom-textbox input {\n",
    "            width: 100%;\n",
    "            padding: 10px;\n",
    "            border: #333;\n",
    "            background: #333;\n",
    "            font-size: 14px;\n",
    "        }\n",
    "        .output {\n",
    "            width: 90%;\n",
    "            height: 300px;\n",
    "            max-width: 600px;\n",
    "            margin: 10px 0;\n",
    "            background-color: #fff;\n",
    "            border: 2px solid #ccc;\n",
    "            border-radius: 8px;\n",
    "            padding: 10px;\n",
    "            font-size: 14px;\n",
    "            text-align: center;\n",
    "            box-shadow: 0 2px 4px rgba(0, 0, 0, 0.1);\n",
    "        }\n",
    "        .gradio-title {\n",
    "            color: #333;\n",
    "            font-size: 24px;\n",
    "            margin-bottom: 10px;\n",
    "        }\n",
    "        .gradio-description {\n",
    "            color: #666;\n",
    "            font-size: 16px;\n",
    "            margin-bottom: 20px;\n",
    "        }\n",
    "        .input-container {\n",
    "            width: 90%;\n",
    "            max-width: 600px;\n",
    "            text-align: center;\n",
    "            margin-bottom: 20px;\n",
    "        }\n",
    "        .input-label {\n",
    "            display: block;\n",
    "            font-size: 18px;\n",
    "            font-weight: bold;\n",
    "            color: #333;\n",
    "            margin-bottom: 8px;\n",
    "        }\n",
    "        .gradio-button {\n",
    "            background-color: #4CAF50;\n",
    "            border: none;\n",
    "            color: white;\n",
    "            padding: 10px 16px;\n",
    "            text-align: center;\n",
    "            text-decoration: none;\n",
    "            display: inline-block;\n",
    "            font-size: 14px;\n",
    "            margin: 10px 0;\n",
    "            cursor: pointer;\n",
    "            border-radius: 8px;\n",
    "        }\n",
    "        .gradio-button:hover {\n",
    "            background-color: #45a049;\n",
    "        }\n",
    "    \"\"\"\n",
    ")\n",
    "\n",
    "# Launch the interface\n",
    "iface.launch()"
   ]
  }
 ],
 "metadata": {
  "kernelspec": {
   "display_name": "Python 3.9.12 ('myenv': venv)",
   "language": "python",
   "name": "python3"
  },
  "language_info": {
   "codemirror_mode": {
    "name": "ipython",
    "version": 3
   },
   "file_extension": ".py",
   "mimetype": "text/x-python",
   "name": "python",
   "nbconvert_exporter": "python",
   "pygments_lexer": "ipython3",
   "version": "3.9.12"
  },
  "orig_nbformat": 4,
  "vscode": {
   "interpreter": {
    "hash": "21bc84bdb205dd0df5b1e3eafcc613804470b3d2a6466df5b10c78d976d66c14"
   }
  }
 },
 "nbformat": 4,
 "nbformat_minor": 2
}
